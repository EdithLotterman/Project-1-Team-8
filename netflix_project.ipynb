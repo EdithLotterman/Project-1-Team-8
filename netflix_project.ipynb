{
 "cells": [
  {
   "cell_type": "code",
   "execution_count": null,
   "metadata": {},
   "outputs": [],
   "source": [
    "# Dependencies:\n",
    "import numpy as np\n",
    "import pandas as pd\n",
    "import scipy.stats as stat\n",
    "from matplotlib import pyplot as plt\n",
    "from config import api_key\n",
    "from pprint import pprint\n",
    "import requests\n",
    "import math\n"
   ]
  },
  {
   "cell_type": "code",
   "execution_count": null,
   "metadata": {},
   "outputs": [],
   "source": [
    "# Data \n",
    "# global netflix data from netflix.com top 10 weekly shows\n",
    "global_netflix_df = pd.read_csv(\"Resources/all-weeks-global.csv\")\n",
    "global_netflix_df.head()\n",
    "global_netflix_df.dtypes\n",
    "\n",
    "# Netflix Title data from kaggle.com- has title, info, imdb ratings, etc.\n",
    "titles_netflix_df = pd.read_csv(\"Resources/titles.csv\")\n",
    "titles_netflix_df.head()\n",
    "titles_netflix_df.dtypes\n",
    "\n",
    "# Merge \n",
    "global_titles_df = pd.merge(global_netflix_df, titles_netflix_df, how= \"left\", left_on=\"show_title\", right_on=\"title\")\n",
    "global_titles_df.drop([\"title\",\"tmdb_popularity\",\"tmdb_score\"], axis=1, inplace=True)\n",
    "global_titles_df"
   ]
  },
  {
   "cell_type": "code",
   "execution_count": null,
   "metadata": {},
   "outputs": [],
   "source": [
    "global_titles_df.to_csv(\"output_data/global_titles.csv\")"
   ]
  },
  {
   "cell_type": "code",
   "execution_count": null,
   "metadata": {},
   "outputs": [],
   "source": [
    "url = \"http://www.omdbapi.com/?t=\"\n",
    "api_key = \"&apikey=b9b46bfd\""
   ]
  },
  {
   "cell_type": "code",
   "execution_count": null,
   "metadata": {},
   "outputs": [],
   "source": [
    "# Changing all NAN values to NA in global_titles_df for easy referencing \n",
    "df = global_titles_df.fillna(\"NA\")\n",
    "df\n",
    "# filtering data where imdb_score is NA and respective show title\n",
    "df1 = df.loc[df[\"imdb_score\"]==\"NA\",\"show_title\"]\n",
    "# Created the movie list with unique movie/show names\n",
    "movies_list = df1.unique().tolist()\n",
    "# Total number of unique movies/shows\n",
    "len(movies_list)"
   ]
  },
  {
   "cell_type": "code",
   "execution_count": null,
   "metadata": {},
   "outputs": [],
   "source": [
    "response = requests.get(url+\"narco-saints\"+api_key).json()\n",
    "response"
   ]
  },
  {
   "cell_type": "code",
   "execution_count": null,
   "metadata": {},
   "outputs": [],
   "source": [
    "# List that has unique movie/show names\n",
    "movies_list\n",
    "# Empty list to store fetched data from API\n",
    "data = []\n",
    "# API Key\n",
    "api_key= \"&apikey=b9b46bfd\"\n",
    "# looping through the movie list and fetching data for each movie\n",
    "for movie in movies_list:\n",
    "    try:\n",
    "        response = requests.get(url+movie+api_key).json()\n",
    "        # Appending data to the list\n",
    "        data.append({\"show_title\":response[\"Title\"],\n",
    "                    \"id\" :response[\"imdbID\"],\"type\":response[\"Type\"],\"description\":response[\"Plot\"],\n",
    "                    \"release_year\":response[\"Year\"],\"age_certification\":response[\"Rated\"],\"runtime\":response[\"Runtime\"],\n",
    "                    \"genres\":response[\"Genre\"],\"production_countries\":response[\"Country\"],\"imdb_id\":response[\"imdbID\"],\n",
    "                    \"imdb_score\":response[\"imdbRating\"],\"imdb_votes\":response[\"imdbVotes\"]})\n",
    "    except KeyError:\n",
    "        pass\n",
    "        \n",
    "# Created the dataframe with all data fetched from api\n",
    "#df3 = pd.DataFrame(data)\n",
    "#df3\n"
   ]
  },
  {
   "cell_type": "code",
   "execution_count": null,
   "metadata": {},
   "outputs": [],
   "source": [
    "df3 = pd.DataFrame(data)\n",
    "df3\n",
    "# Exporting data fetched from the API to csv file\n",
    "df3.to_csv(\"output_data/api_data.csv\")"
   ]
  },
  {
   "cell_type": "code",
   "execution_count": null,
   "metadata": {},
   "outputs": [],
   "source": [
    "# merged the data fetched(df3) and dataframe we have(global_titles_df)\n",
    "#changing all show titles into lower case \n",
    "global_titles_df[\"Show_title\"]=global_titles_df['show_title'].str.lower()\n",
    "df3[\"Show_title\"]=df3['show_title'].str.lower()\n",
    "\n",
    "merge_df = pd.merge(global_titles_df, df3, how= \"left\",on=\"Show_title\")\n",
    "# combining the data and storing it in separate column.(eg:combined type_x,type_y into one column type) and data cleaning\n",
    "combined_df = merge_df.assign(type=merge_df.type_x.fillna(merge_df.type_y))\n",
    "combined_df = combined_df.assign(description=merge_df.description_x.fillna(merge_df.description_y))\n",
    "combined_df = combined_df.assign(release_year=merge_df.release_year_x.fillna(merge_df.release_year_y))\n",
    "combined_df = combined_df.assign(age_certification=merge_df.age_certification_x.fillna(merge_df.age_certification_y))\n",
    "combined_df = combined_df.assign(runtime=merge_df.runtime_x.fillna(merge_df.runtime_y))\n",
    "combined_df = combined_df.assign(genres=merge_df.genres_x.fillna(merge_df.genres_y))\n",
    "combined_df = combined_df.assign(production_countries=merge_df.production_countries_x.fillna(merge_df.production_countries_y))\n",
    "combined_df = combined_df.assign(imdb_id=merge_df.imdb_id_x.fillna(merge_df.imdb_id_y))\n",
    "combined_df = combined_df.assign(imdb_score=merge_df.imdb_score_x.fillna(merge_df.imdb_score_y))\n",
    "combined_df = combined_df.assign(imdb_votes=merge_df.imdb_votes_x.fillna(merge_df.imdb_votes_y))\n",
    "#dropping used columns\n",
    "combined_df.drop([\"show_title_x\",\"show_title_y\",\"id_x\",\"id_y\",\"type_x\",\"type_y\",\"description_x\",\"description_y\",\"release_year_x\",\n",
    "                \"release_year_y\",\"age_certification_x\",\"age_certification_y\",\"runtime_x\",\"runtime_y\",\"genres_x\",\"genres_y\",\n",
    "                \"production_countries_x\",\"production_countries_y\",\"imdb_id_x\",\"imdb_id_y\",\"imdb_score_x\",\"imdb_score_y\",\n",
    "                \"imdb_votes_x\",\"imdb_votes_y\",\"season_title\",\"seasons\"], axis=1, inplace=True)\n",
    "#dropped all rows that has NAN values \n",
    "combined_df = combined_df.dropna()\n",
    "# Dropped all rows that has imdb_score equal to N/A\n",
    "cleaned_df = combined_df.loc[combined_df[\"imdb_score\"]!=\"N/A\"]\n",
    "cleaned_df = combined_df.loc[combined_df[\"runtime\"]!=\"N/A\"]\n",
    "cleaned_df = combined_df.loc[combined_df[\"age_certification\"]!=\"N/A\"]\n",
    "#saving the dataframe into csv file\n",
    "cleaned_df.to_csv(\"output_data/cleaned_netflix_data.csv\")\n",
    "print(cleaned_df.count())\n",
    "cleaned_df"
   ]
  },
  {
   "cell_type": "code",
   "execution_count": 6,
   "metadata": {},
   "outputs": [
    {
     "data": {
      "text/html": [
       "<div>\n",
       "<style scoped>\n",
       "    .dataframe tbody tr th:only-of-type {\n",
       "        vertical-align: middle;\n",
       "    }\n",
       "\n",
       "    .dataframe tbody tr th {\n",
       "        vertical-align: top;\n",
       "    }\n",
       "\n",
       "    .dataframe thead th {\n",
       "        text-align: right;\n",
       "    }\n",
       "</style>\n",
       "<table border=\"1\" class=\"dataframe\">\n",
       "  <thead>\n",
       "    <tr style=\"text-align: right;\">\n",
       "      <th></th>\n",
       "      <th>Unnamed: 0</th>\n",
       "      <th>Unnamed: 0.1</th>\n",
       "      <th>week</th>\n",
       "      <th>category</th>\n",
       "      <th>weekly_rank</th>\n",
       "      <th>weekly_hours_viewed</th>\n",
       "      <th>cumulative_weeks_in_top_10</th>\n",
       "      <th>Show_title</th>\n",
       "      <th>type</th>\n",
       "      <th>description</th>\n",
       "      <th>release_year</th>\n",
       "      <th>age_certification</th>\n",
       "      <th>runtime</th>\n",
       "      <th>genres</th>\n",
       "      <th>production_countries</th>\n",
       "      <th>imdb_id</th>\n",
       "      <th>imdb_score</th>\n",
       "      <th>imdb_votes</th>\n",
       "    </tr>\n",
       "  </thead>\n",
       "  <tbody>\n",
       "    <tr>\n",
       "      <th>0</th>\n",
       "      <td>0</td>\n",
       "      <td>0</td>\n",
       "      <td>2022-10-30</td>\n",
       "      <td>Films (English)</td>\n",
       "      <td>1</td>\n",
       "      <td>68310000</td>\n",
       "      <td>1</td>\n",
       "      <td>the good nurse</td>\n",
       "      <td>movie</td>\n",
       "      <td>An infamous caregiver is implicated in the dea...</td>\n",
       "      <td>2022</td>\n",
       "      <td>R</td>\n",
       "      <td>121 min</td>\n",
       "      <td>biography, crime, drama</td>\n",
       "      <td>United States</td>\n",
       "      <td>tt4273800</td>\n",
       "      <td>7.1</td>\n",
       "      <td>204</td>\n",
       "    </tr>\n",
       "    <tr>\n",
       "      <th>1</th>\n",
       "      <td>1</td>\n",
       "      <td>1</td>\n",
       "      <td>2022-10-30</td>\n",
       "      <td>Films (English)</td>\n",
       "      <td>2</td>\n",
       "      <td>41950000</td>\n",
       "      <td>2</td>\n",
       "      <td>the school for good and evil</td>\n",
       "      <td>movie</td>\n",
       "      <td>Best friends Sophie and Agatha find themselves...</td>\n",
       "      <td>2022</td>\n",
       "      <td>PG-13</td>\n",
       "      <td>147 min</td>\n",
       "      <td>action, comedy, drama</td>\n",
       "      <td>United States</td>\n",
       "      <td>tt2935622</td>\n",
       "      <td>5.8</td>\n",
       "      <td>18,952</td>\n",
       "    </tr>\n",
       "    <tr>\n",
       "      <th>2</th>\n",
       "      <td>2</td>\n",
       "      <td>2</td>\n",
       "      <td>2022-10-30</td>\n",
       "      <td>Films (English)</td>\n",
       "      <td>3</td>\n",
       "      <td>9170000</td>\n",
       "      <td>2</td>\n",
       "      <td>the stranger</td>\n",
       "      <td>SHOW</td>\n",
       "      <td>A web of secrets sends family man Adam Price o...</td>\n",
       "      <td>2020</td>\n",
       "      <td>TV-MA</td>\n",
       "      <td>45.0</td>\n",
       "      <td>thriller, crime, drama</td>\n",
       "      <td>['GB']</td>\n",
       "      <td>tt9698480</td>\n",
       "      <td>7.3</td>\n",
       "      <td>48298.0</td>\n",
       "    </tr>\n",
       "    <tr>\n",
       "      <th>3</th>\n",
       "      <td>3</td>\n",
       "      <td>3</td>\n",
       "      <td>2022-10-30</td>\n",
       "      <td>Films (English)</td>\n",
       "      <td>4</td>\n",
       "      <td>8890000</td>\n",
       "      <td>1</td>\n",
       "      <td>wild is the wind</td>\n",
       "      <td>movie</td>\n",
       "      <td>An immigrant Nevada rancher brings a woman fro...</td>\n",
       "      <td>1957</td>\n",
       "      <td>Not Rated</td>\n",
       "      <td>114 min</td>\n",
       "      <td>drama</td>\n",
       "      <td>United States</td>\n",
       "      <td>tt0051193</td>\n",
       "      <td>6.7</td>\n",
       "      <td>1,027</td>\n",
       "    </tr>\n",
       "    <tr>\n",
       "      <th>4</th>\n",
       "      <td>4</td>\n",
       "      <td>4</td>\n",
       "      <td>2022-10-30</td>\n",
       "      <td>Films (English)</td>\n",
       "      <td>5</td>\n",
       "      <td>8170000</td>\n",
       "      <td>3</td>\n",
       "      <td>the curse of bridge hollow</td>\n",
       "      <td>movie</td>\n",
       "      <td>A teenage girl, who accidentally releases an a...</td>\n",
       "      <td>2022</td>\n",
       "      <td>TV-14</td>\n",
       "      <td>89 min</td>\n",
       "      <td>adventure, comedy, family</td>\n",
       "      <td>United States</td>\n",
       "      <td>tt15289240</td>\n",
       "      <td>NaN</td>\n",
       "      <td>4,085</td>\n",
       "    </tr>\n",
       "  </tbody>\n",
       "</table>\n",
       "</div>"
      ],
      "text/plain": [
       "   Unnamed: 0  Unnamed: 0.1        week         category  weekly_rank  \\\n",
       "0           0             0  2022-10-30  Films (English)            1   \n",
       "1           1             1  2022-10-30  Films (English)            2   \n",
       "2           2             2  2022-10-30  Films (English)            3   \n",
       "3           3             3  2022-10-30  Films (English)            4   \n",
       "4           4             4  2022-10-30  Films (English)            5   \n",
       "\n",
       "   weekly_hours_viewed  cumulative_weeks_in_top_10  \\\n",
       "0             68310000                           1   \n",
       "1             41950000                           2   \n",
       "2              9170000                           2   \n",
       "3              8890000                           1   \n",
       "4              8170000                           3   \n",
       "\n",
       "                     Show_title   type  \\\n",
       "0                the good nurse  movie   \n",
       "1  the school for good and evil  movie   \n",
       "2                  the stranger   SHOW   \n",
       "3              wild is the wind  movie   \n",
       "4    the curse of bridge hollow  movie   \n",
       "\n",
       "                                         description  release_year  \\\n",
       "0  An infamous caregiver is implicated in the dea...          2022   \n",
       "1  Best friends Sophie and Agatha find themselves...          2022   \n",
       "2  A web of secrets sends family man Adam Price o...          2020   \n",
       "3  An immigrant Nevada rancher brings a woman fro...          1957   \n",
       "4  A teenage girl, who accidentally releases an a...          2022   \n",
       "\n",
       "  age_certification  runtime                     genres production_countries  \\\n",
       "0                 R  121 min    biography, crime, drama        United States   \n",
       "1             PG-13  147 min      action, comedy, drama        United States   \n",
       "2             TV-MA     45.0     thriller, crime, drama               ['GB']   \n",
       "3         Not Rated  114 min                      drama        United States   \n",
       "4             TV-14   89 min  adventure, comedy, family        United States   \n",
       "\n",
       "      imdb_id  imdb_score imdb_votes  \n",
       "0   tt4273800         7.1        204  \n",
       "1   tt2935622         5.8     18,952  \n",
       "2   tt9698480         7.3    48298.0  \n",
       "3   tt0051193         6.7      1,027  \n",
       "4  tt15289240         NaN      4,085  "
      ]
     },
     "execution_count": 6,
     "metadata": {},
     "output_type": "execute_result"
    }
   ],
   "source": [
    "netflix_df = pd.read_csv(\"output_data/cleaned_netflix_data.csv\")\n",
    "\n",
    "netflix_df.head()\n"
   ]
  },
  {
   "cell_type": "code",
   "execution_count": 19,
   "metadata": {},
   "outputs": [
    {
     "data": {
      "text/plain": [
       "(1990, 2024)"
      ]
     },
     "execution_count": 19,
     "metadata": {},
     "output_type": "execute_result"
    },
    {
     "data": {
      "image/png": "[encoded data removed]",
      "text/plain": [
       "<Figure size 576x576 with 1 Axes>"
      ]
     },
     "metadata": {
      "needs_background": "light"
     },
     "output_type": "display_data"
    }
   ],
   "source": [
    "plt.figure(figsize=(8,8))\n",
    "plt.scatter(netflix_df[\"release_year\"],netflix_df[\"imdb_score\"])\n",
    "plt.grid()\n",
    "plt.xlabel(\"\")\n",
    "plt.xlim(1990,2024)"
   ]
  },
  {
   "cell_type": "code",
   "execution_count": 61,
   "metadata": {},
   "outputs": [
    {
     "data": {
      "image/png": "[encoded data removed]",
      "text/plain": [
       "<Figure size 1440x360 with 1 Axes>"
      ]
     },
     "metadata": {
      "needs_background": "light"
     },
     "output_type": "display_data"
    }
   ],
   "source": [
    "avg_ratings_per_year = netflix_df.groupby(\"release_year\").mean()[\"imdb_score\"]\n",
    "median_ratings_per_year = netflix_df.groupby(\"release_year\").median()[\"imdb_score\"]\n",
    "plt.figure(figsize=(20,5))\n",
    "plt.plot(avg_ratings_per_year.index,avg_ratings_per_year.values,label=\"mean\",color=\"blue\")\n",
    "plt.plot(median_ratings_per_year.index,median_ratings_per_year.values,label=\"median\",color=\"red\")\n",
    "plt.legend(loc=\"lower right\")\n",
    "plt.xlabel(\"Year Released\", fontsize=16)\n",
    "plt.ylabel(\"Average Ratings\", fontsize=16)\n",
    "plt.title(\"Average Rating (vs) Year Of Release\",fontsize=16)\n",
    "plt.xlim(1990,2024)\n",
    "plt.ylim(5,9)\n",
    "plt.grid(color=\"green\", alpha=.5)\n"
   ]
  },
  {
   "cell_type": "code",
   "execution_count": 81,
   "metadata": {},
   "outputs": [
    {
     "data": {
      "text/html": [
       "<div>\n",
       "<style scoped>\n",
       "    .dataframe tbody tr th:only-of-type {\n",
       "        vertical-align: middle;\n",
       "    }\n",
       "\n",
       "    .dataframe tbody tr th {\n",
       "        vertical-align: top;\n",
       "    }\n",
       "\n",
       "    .dataframe thead th {\n",
       "        text-align: right;\n",
       "    }\n",
       "</style>\n",
       "<table border=\"1\" class=\"dataframe\">\n",
       "  <thead>\n",
       "    <tr style=\"text-align: right;\">\n",
       "      <th></th>\n",
       "      <th>Show_title</th>\n",
       "      <th>weekly_rank</th>\n",
       "      <th>cumulative_weeks_in_top_10</th>\n",
       "      <th>Unnamed: 0</th>\n",
       "      <th>Unnamed: 0.1</th>\n",
       "      <th>week</th>\n",
       "      <th>category</th>\n",
       "      <th>weekly_hours_viewed</th>\n",
       "      <th>type</th>\n",
       "      <th>description</th>\n",
       "      <th>release_year</th>\n",
       "      <th>age_certification</th>\n",
       "      <th>runtime</th>\n",
       "      <th>genres</th>\n",
       "      <th>production_countries</th>\n",
       "      <th>imdb_id</th>\n",
       "      <th>imdb_score</th>\n",
       "      <th>imdb_votes</th>\n",
       "    </tr>\n",
       "  </thead>\n",
       "  <tbody>\n",
       "    <tr>\n",
       "      <th>232</th>\n",
       "      <td>the christmas chronicles</td>\n",
       "      <td>6</td>\n",
       "      <td>4</td>\n",
       "      <td>1310</td>\n",
       "      <td>1776</td>\n",
       "      <td>2021-12-26</td>\n",
       "      <td>Films (English)</td>\n",
       "      <td>12910000</td>\n",
       "      <td>MOVIE</td>\n",
       "      <td>Siblings Kate and Teddy try to prove Santa Cla...</td>\n",
       "      <td>2018</td>\n",
       "      <td>PG</td>\n",
       "      <td>104.0</td>\n",
       "      <td>comedy, family, fantasy</td>\n",
       "      <td>['US']</td>\n",
       "      <td>tt2990140</td>\n",
       "      <td>7.0</td>\n",
       "      <td>71740.0</td>\n",
       "    </tr>\n",
       "  </tbody>\n",
       "</table>\n",
       "</div>"
      ],
      "text/plain": [
       "                   Show_title  weekly_rank  cumulative_weeks_in_top_10  \\\n",
       "232  the christmas chronicles            6                           4   \n",
       "\n",
       "     Unnamed: 0  Unnamed: 0.1        week         category  \\\n",
       "232        1310          1776  2021-12-26  Films (English)   \n",
       "\n",
       "     weekly_hours_viewed   type  \\\n",
       "232             12910000  MOVIE   \n",
       "\n",
       "                                           description  release_year  \\\n",
       "232  Siblings Kate and Teddy try to prove Santa Cla...          2018   \n",
       "\n",
       "    age_certification runtime                   genres production_countries  \\\n",
       "232                PG   104.0  comedy, family, fantasy               ['US']   \n",
       "\n",
       "       imdb_id  imdb_score imdb_votes  \n",
       "232  tt2990140         7.0    71740.0  "
      ]
     },
     "execution_count": 81,
     "metadata": {},
     "output_type": "execute_result"
    }
   ],
   "source": [
    "groupedby_title = netflix_df.groupby(\"Show_title\").agg({\"weekly_rank\":\"min\",\"cumulative_weeks_in_top_10\":\"max\"}).reset_index()\n",
    "\n",
    "rank_df = pd.merge(groupedby_title,netflix_df,how=\"inner\",on=[\"Show_title\",\"weekly_rank\",\"cumulative_weeks_in_top_10\"])\n",
    "rank_df\n",
    "rank_df.loc[rank_df[\"cumulative_weeks_in_top_10\"]==4]\n"
   ]
  },
  {
   "cell_type": "code",
   "execution_count": 86,
   "metadata": {},
   "outputs": [
    {
     "data": {
      "text/plain": [
       "Text(0, 0.5, 'Cumulative Weeks In Top 10')"
      ]
     },
     "execution_count": 86,
     "metadata": {},
     "output_type": "execute_result"
    },
    {
     "data": {
      "image/png": "[encoded data removed]",
      "text/plain": [
       "<Figure size 432x288 with 1 Axes>"
      ]
     },
     "metadata": {
      "needs_background": "light"
     },
     "output_type": "display_data"
    }
   ],
   "source": [
    "colors = [\"Red\",\"Orange\",\"Orange\",\"Yellow\",\"Yellow\",\"Green\",\"Yellow\",\"Orange\",\"Yellow\",\"Orange\"]\n",
    "#colors = [\"Red\",\"Orange\",\"Yellow\",\"Green\",\"blue\",\"purple\",\"Indigo\",\"pink\",\"darkblue\",\"violet\"]\n",
    "plt.bar(rank_df[\"weekly_rank\"],rank_df[\"cumulative_weeks_in_top_10\"],color=colors)\n",
    "plt.xlabel(\"Weekly Rank\")\n",
    "plt.ylabel(\"Cumulative Weeks In Top 10\")"
   ]
  }
 ],
 "metadata": {
  "kernelspec": {
   "display_name": "Python 3.6.13 ('pythondata1')",
   "language": "python",
   "name": "python3"
  },
  "language_info": {
   "codemirror_mode": {
    "name": "ipython",
    "version": 3
   },
   "file_extension": ".py",
   "mimetype": "text/x-python",
   "name": "python",
   "nbconvert_exporter": "python",
   "pygments_lexer": "ipython3",
   "version": "3.6.13"
  },
  "orig_nbformat": 4,
  "vscode": {
   "interpreter": {
    "hash": "1df8261d8dddbc096351e152f64f4baa494b770e7cb6e40247ac490bc3044024"
   }
  }
 },
 "nbformat": 4,
 "nbformat_minor": 2
}
