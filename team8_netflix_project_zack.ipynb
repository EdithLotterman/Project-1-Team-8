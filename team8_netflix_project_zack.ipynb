{
 "cells": [
  {
   "cell_type": "markdown",
   "metadata": {},
   "source": [
    "## Starter Code for Team 8 Netflix Project\n",
    "-Zack Crowley"
   ]
  },
  {
   "cell_type": "code",
   "execution_count": 1,
   "metadata": {},
   "outputs": [],
   "source": [
    "# Dependencies:\n",
    "import numpy as np\n",
    "import pandas as pd\n",
    "import scipy.stats as stat\n",
    "from matplotlib import pyplot as plt\n",
    "import country_converter as coco"
   ]
  },
  {
   "cell_type": "code",
   "execution_count": 2,
   "metadata": {},
   "outputs": [
    {
     "name": "stdout",
     "output_type": "stream",
     "text": [
      "Unnamed: 0                      int64\n",
      "Unnamed: 0.1                    int64\n",
      "week                           object\n",
      "category                       object\n",
      "weekly_rank                     int64\n",
      "weekly_hours_viewed             int64\n",
      "cumulative_weeks_in_top_10      int64\n",
      "Show_title                     object\n",
      "type                           object\n",
      "description                    object\n",
      "release_year                    int64\n",
      "age_certification              object\n",
      "runtime                        object\n",
      "genres                         object\n",
      "production_countries           object\n",
      "imdb_id                        object\n",
      "imdb_score                    float64\n",
      "imdb_votes                     object\n",
      "dtype: object\n"
     ]
    },
    {
     "data": {
      "text/html": [
       "<div>\n",
       "<style scoped>\n",
       "    .dataframe tbody tr th:only-of-type {\n",
       "        vertical-align: middle;\n",
       "    }\n",
       "\n",
       "    .dataframe tbody tr th {\n",
       "        vertical-align: top;\n",
       "    }\n",
       "\n",
       "    .dataframe thead th {\n",
       "        text-align: right;\n",
       "    }\n",
       "</style>\n",
       "<table border=\"1\" class=\"dataframe\">\n",
       "  <thead>\n",
       "    <tr style=\"text-align: right;\">\n",
       "      <th></th>\n",
       "      <th>Unnamed: 0</th>\n",
       "      <th>Unnamed: 0.1</th>\n",
       "      <th>week</th>\n",
       "      <th>category</th>\n",
       "      <th>weekly_rank</th>\n",
       "      <th>weekly_hours_viewed</th>\n",
       "      <th>cumulative_weeks_in_top_10</th>\n",
       "      <th>Show_title</th>\n",
       "      <th>type</th>\n",
       "      <th>description</th>\n",
       "      <th>release_year</th>\n",
       "      <th>age_certification</th>\n",
       "      <th>runtime</th>\n",
       "      <th>genres</th>\n",
       "      <th>production_countries</th>\n",
       "      <th>imdb_id</th>\n",
       "      <th>imdb_score</th>\n",
       "      <th>imdb_votes</th>\n",
       "    </tr>\n",
       "  </thead>\n",
       "  <tbody>\n",
       "    <tr>\n",
       "      <th>0</th>\n",
       "      <td>0</td>\n",
       "      <td>0</td>\n",
       "      <td>2022-10-30</td>\n",
       "      <td>Films (English)</td>\n",
       "      <td>1</td>\n",
       "      <td>68310000</td>\n",
       "      <td>1</td>\n",
       "      <td>the good nurse</td>\n",
       "      <td>movie</td>\n",
       "      <td>An infamous caregiver is implicated in the dea...</td>\n",
       "      <td>2022</td>\n",
       "      <td>R</td>\n",
       "      <td>121 min</td>\n",
       "      <td>biography, crime, drama</td>\n",
       "      <td>United States</td>\n",
       "      <td>tt4273800</td>\n",
       "      <td>7.1</td>\n",
       "      <td>204</td>\n",
       "    </tr>\n",
       "    <tr>\n",
       "      <th>1</th>\n",
       "      <td>1</td>\n",
       "      <td>1</td>\n",
       "      <td>2022-10-30</td>\n",
       "      <td>Films (English)</td>\n",
       "      <td>2</td>\n",
       "      <td>41950000</td>\n",
       "      <td>2</td>\n",
       "      <td>the school for good and evil</td>\n",
       "      <td>movie</td>\n",
       "      <td>Best friends Sophie and Agatha find themselves...</td>\n",
       "      <td>2022</td>\n",
       "      <td>PG-13</td>\n",
       "      <td>147 min</td>\n",
       "      <td>action, comedy, drama</td>\n",
       "      <td>United States</td>\n",
       "      <td>tt2935622</td>\n",
       "      <td>5.8</td>\n",
       "      <td>18,952</td>\n",
       "    </tr>\n",
       "    <tr>\n",
       "      <th>2</th>\n",
       "      <td>2</td>\n",
       "      <td>2</td>\n",
       "      <td>2022-10-30</td>\n",
       "      <td>Films (English)</td>\n",
       "      <td>3</td>\n",
       "      <td>9170000</td>\n",
       "      <td>2</td>\n",
       "      <td>the stranger</td>\n",
       "      <td>SHOW</td>\n",
       "      <td>A web of secrets sends family man Adam Price o...</td>\n",
       "      <td>2020</td>\n",
       "      <td>TV-MA</td>\n",
       "      <td>45.0</td>\n",
       "      <td>thriller, crime, drama</td>\n",
       "      <td>['GB']</td>\n",
       "      <td>tt9698480</td>\n",
       "      <td>7.3</td>\n",
       "      <td>48298.0</td>\n",
       "    </tr>\n",
       "    <tr>\n",
       "      <th>3</th>\n",
       "      <td>3</td>\n",
       "      <td>3</td>\n",
       "      <td>2022-10-30</td>\n",
       "      <td>Films (English)</td>\n",
       "      <td>4</td>\n",
       "      <td>8890000</td>\n",
       "      <td>1</td>\n",
       "      <td>wild is the wind</td>\n",
       "      <td>movie</td>\n",
       "      <td>An immigrant Nevada rancher brings a woman fro...</td>\n",
       "      <td>1957</td>\n",
       "      <td>Not Rated</td>\n",
       "      <td>114 min</td>\n",
       "      <td>drama</td>\n",
       "      <td>United States</td>\n",
       "      <td>tt0051193</td>\n",
       "      <td>6.7</td>\n",
       "      <td>1,027</td>\n",
       "    </tr>\n",
       "    <tr>\n",
       "      <th>4</th>\n",
       "      <td>4</td>\n",
       "      <td>4</td>\n",
       "      <td>2022-10-30</td>\n",
       "      <td>Films (English)</td>\n",
       "      <td>5</td>\n",
       "      <td>8170000</td>\n",
       "      <td>3</td>\n",
       "      <td>the curse of bridge hollow</td>\n",
       "      <td>movie</td>\n",
       "      <td>A teenage girl, who accidentally releases an a...</td>\n",
       "      <td>2022</td>\n",
       "      <td>TV-14</td>\n",
       "      <td>89 min</td>\n",
       "      <td>adventure, comedy, family</td>\n",
       "      <td>United States</td>\n",
       "      <td>tt15289240</td>\n",
       "      <td>NaN</td>\n",
       "      <td>4,085</td>\n",
       "    </tr>\n",
       "  </tbody>\n",
       "</table>\n",
       "</div>"
      ],
      "text/plain": [
       "   Unnamed: 0  Unnamed: 0.1        week         category  weekly_rank  \\\n",
       "0           0             0  2022-10-30  Films (English)            1   \n",
       "1           1             1  2022-10-30  Films (English)            2   \n",
       "2           2             2  2022-10-30  Films (English)            3   \n",
       "3           3             3  2022-10-30  Films (English)            4   \n",
       "4           4             4  2022-10-30  Films (English)            5   \n",
       "\n",
       "   weekly_hours_viewed  cumulative_weeks_in_top_10  \\\n",
       "0             68310000                           1   \n",
       "1             41950000                           2   \n",
       "2              9170000                           2   \n",
       "3              8890000                           1   \n",
       "4              8170000                           3   \n",
       "\n",
       "                     Show_title   type  \\\n",
       "0                the good nurse  movie   \n",
       "1  the school for good and evil  movie   \n",
       "2                  the stranger   SHOW   \n",
       "3              wild is the wind  movie   \n",
       "4    the curse of bridge hollow  movie   \n",
       "\n",
       "                                         description  release_year  \\\n",
       "0  An infamous caregiver is implicated in the dea...          2022   \n",
       "1  Best friends Sophie and Agatha find themselves...          2022   \n",
       "2  A web of secrets sends family man Adam Price o...          2020   \n",
       "3  An immigrant Nevada rancher brings a woman fro...          1957   \n",
       "4  A teenage girl, who accidentally releases an a...          2022   \n",
       "\n",
       "  age_certification  runtime                     genres production_countries  \\\n",
       "0                 R  121 min    biography, crime, drama        United States   \n",
       "1             PG-13  147 min      action, comedy, drama        United States   \n",
       "2             TV-MA     45.0     thriller, crime, drama               ['GB']   \n",
       "3         Not Rated  114 min                      drama        United States   \n",
       "4             TV-14   89 min  adventure, comedy, family        United States   \n",
       "\n",
       "      imdb_id  imdb_score imdb_votes  \n",
       "0   tt4273800         7.1        204  \n",
       "1   tt2935622         5.8     18,952  \n",
       "2   tt9698480         7.3    48298.0  \n",
       "3   tt0051193         6.7      1,027  \n",
       "4  tt15289240         NaN      4,085  "
      ]
     },
     "execution_count": 2,
     "metadata": {},
     "output_type": "execute_result"
    }
   ],
   "source": [
    "# Data \n",
    "# global netflix data from netflix.com top 10 weekly shows\n",
    "netflix_df = pd.read_csv(\"cleaned_netflix_data.csv\")\n",
    "print(netflix_df.dtypes)\n",
    "netflix_df.head()\n"
   ]
  },
  {
   "cell_type": "code",
   "execution_count": 3,
   "metadata": {},
   "outputs": [
    {
     "data": {
      "text/plain": [
       "Unnamed: 0                    2069\n",
       "Unnamed: 0.1                  2069\n",
       "week                          2069\n",
       "category                      2069\n",
       "weekly_rank                   2069\n",
       "weekly_hours_viewed           2069\n",
       "cumulative_weeks_in_top_10    2069\n",
       "Show_title                    2069\n",
       "type                          2069\n",
       "description                   2069\n",
       "release_year                  2069\n",
       "age_certification             2069\n",
       "runtime                       1976\n",
       "genres                        2069\n",
       "production_countries          2069\n",
       "imdb_id                       2069\n",
       "imdb_score                    2062\n",
       "imdb_votes                    2068\n",
       "dtype: int64"
      ]
     },
     "execution_count": 3,
     "metadata": {},
     "output_type": "execute_result"
    }
   ],
   "source": [
    "# Count all vars:\n",
    "netflix_df.count()\n",
    "\n"
   ]
  },
  {
   "cell_type": "code",
   "execution_count": 4,
   "metadata": {},
   "outputs": [
    {
     "name": "stdout",
     "output_type": "stream",
     "text": [
      "English Films: 263\n",
      "English Show: 152\n",
      "Non-English Films: 92\n",
      "Non-English Show: 139\n"
     ]
    }
   ],
   "source": [
    "# Create df's for each of the 4 categories: Show/film and English/Non-English\n",
    "# var = category\n",
    "\n",
    "eng_film_df = netflix_df.loc[netflix_df[\"category\"]==\"Films (English)\"]\n",
    "eng_show_df = netflix_df.loc[netflix_df[\"category\"]==\"TV (English)\"]\n",
    "non_eng_film_df = netflix_df.loc[netflix_df[\"category\"]==\"Films (Non-English)\"]\n",
    "non_eng_show_df = netflix_df.loc[netflix_df[\"category\"]==\"TV (Non-English)\"]\n",
    "\n",
    "# Count all:\n",
    "print(f\"English Films:\",eng_film_df[\"Show_title\"].nunique())\n",
    "print(f\"English Show:\",eng_show_df[\"Show_title\"].nunique())\n",
    "print(f\"Non-English Films:\",non_eng_film_df[\"Show_title\"].nunique())\n",
    "print(f\"Non-English Show:\",non_eng_show_df[\"Show_title\"].nunique())\n",
    "# Not a lot of Non-english films by comparison."
   ]
  },
  {
   "cell_type": "code",
   "execution_count": 5,
   "metadata": {},
   "outputs": [
    {
     "name": "stdout",
     "output_type": "stream",
     "text": [
      "0                                 biography, crime, drama\n",
      "1                                   action, comedy, drama\n",
      "2                                  thriller, crime, drama\n",
      "3                                                   drama\n",
      "4                               adventure, comedy, family\n",
      "                              ...                        \n",
      "2064                               thriller, drama, crime\n",
      "2065                               thriller, drama, crime\n",
      "2066                               thriller, drama, crime\n",
      "2067                               drama, thriller, scifi\n",
      "2068    animation, action, scifi, drama, fantasy, thri...\n",
      "Name: genres, Length: 2069, dtype: object\n"
     ]
    }
   ],
   "source": [
    "# Fix runtime, genre and production_country:\n",
    "# Genre:\n",
    "genre = netflix_df[\"genres\"]\n",
    "netflix_df[\"genres\"] = netflix_df[\"genres\"].str.lower()\n",
    "netflix_df[\"genres\"] = netflix_df[\"genres\"].str.replace(\"[\", \"\").str.replace(\"\\'\", \"\").str.replace(\"]\", \"\")\n",
    "print(netflix_df[\"genres\"])"
   ]
  },
  {
   "cell_type": "code",
   "execution_count": 6,
   "metadata": {},
   "outputs": [],
   "source": [
    "# Runtime:\n",
    "netflix_df[\"runtime\"] = netflix_df[\"runtime\"].str.rstrip(' min').str.rstrip('.0')\n",
    "netflix_df[\"runtime\"] = netflix_df[\"runtime\"].replace(np.nan, \"0\").replace(\"\",\"0\")\n",
    "netflix_df[\"runtime\"] = netflix_df[\"runtime\"].astype(float)\n",
    "netflix_df[\"runtime\"].unique()\n",
    "# Rename col to specifiy runtime is in minutes:\n",
    "netflix_df.rename({'runtime': 'runtime (mins)'}, axis=1, inplace=True)\n"
   ]
  },
  {
   "cell_type": "code",
   "execution_count": 7,
   "metadata": {},
   "outputs": [
    {
     "ename": "AttributeError",
     "evalue": "Can only use .str accessor with string values!",
     "output_type": "error",
     "traceback": [
      "\u001b[0;31m---------------------------------------------------------------------------\u001b[0m",
      "\u001b[0;31mAttributeError\u001b[0m                            Traceback (most recent call last)",
      "\u001b[0;32m<ipython-input-7-a1940bc2d76e>\u001b[0m in \u001b[0;36m<module>\u001b[0;34m\u001b[0m\n\u001b[1;32m      1\u001b[0m \u001b[0;31m# Year (just the first 4 char)):\u001b[0m\u001b[0;34m\u001b[0m\u001b[0;34m\u001b[0m\u001b[0;34m\u001b[0m\u001b[0m\n\u001b[0;32m----> 2\u001b[0;31m \u001b[0mnetflix_df\u001b[0m\u001b[0;34m[\u001b[0m\u001b[0;34m\"release_year\"\u001b[0m\u001b[0;34m]\u001b[0m \u001b[0;34m=\u001b[0m \u001b[0mnetflix_df\u001b[0m\u001b[0;34m[\u001b[0m\u001b[0;34m\"release_year\"\u001b[0m\u001b[0;34m]\u001b[0m\u001b[0;34m.\u001b[0m\u001b[0mstr\u001b[0m\u001b[0;34m[\u001b[0m\u001b[0;34m:\u001b[0m\u001b[0;36m4\u001b[0m\u001b[0;34m]\u001b[0m\u001b[0;34m\u001b[0m\u001b[0;34m\u001b[0m\u001b[0m\n\u001b[0m\u001b[1;32m      3\u001b[0m \u001b[0mnetflix_df\u001b[0m\u001b[0;34m[\u001b[0m\u001b[0;34m\"release_year\"\u001b[0m\u001b[0;34m]\u001b[0m\u001b[0;34m\u001b[0m\u001b[0;34m\u001b[0m\u001b[0m\n",
      "\u001b[0;32m~/opt/anaconda3/envs/pythondata/lib/python3.6/site-packages/pandas/core/generic.py\u001b[0m in \u001b[0;36m__getattr__\u001b[0;34m(self, name)\u001b[0m\n\u001b[1;32m   5268\u001b[0m             \u001b[0;32mor\u001b[0m \u001b[0mname\u001b[0m \u001b[0;32min\u001b[0m \u001b[0mself\u001b[0m\u001b[0;34m.\u001b[0m\u001b[0m_accessors\u001b[0m\u001b[0;34m\u001b[0m\u001b[0;34m\u001b[0m\u001b[0m\n\u001b[1;32m   5269\u001b[0m         ):\n\u001b[0;32m-> 5270\u001b[0;31m             \u001b[0;32mreturn\u001b[0m \u001b[0mobject\u001b[0m\u001b[0;34m.\u001b[0m\u001b[0m__getattribute__\u001b[0m\u001b[0;34m(\u001b[0m\u001b[0mself\u001b[0m\u001b[0;34m,\u001b[0m \u001b[0mname\u001b[0m\u001b[0;34m)\u001b[0m\u001b[0;34m\u001b[0m\u001b[0;34m\u001b[0m\u001b[0m\n\u001b[0m\u001b[1;32m   5271\u001b[0m         \u001b[0;32melse\u001b[0m\u001b[0;34m:\u001b[0m\u001b[0;34m\u001b[0m\u001b[0;34m\u001b[0m\u001b[0m\n\u001b[1;32m   5272\u001b[0m             \u001b[0;32mif\u001b[0m \u001b[0mself\u001b[0m\u001b[0;34m.\u001b[0m\u001b[0m_info_axis\u001b[0m\u001b[0;34m.\u001b[0m\u001b[0m_can_hold_identifiers_and_holds_name\u001b[0m\u001b[0;34m(\u001b[0m\u001b[0mname\u001b[0m\u001b[0;34m)\u001b[0m\u001b[0;34m:\u001b[0m\u001b[0;34m\u001b[0m\u001b[0;34m\u001b[0m\u001b[0m\n",
      "\u001b[0;32m~/opt/anaconda3/envs/pythondata/lib/python3.6/site-packages/pandas/core/accessor.py\u001b[0m in \u001b[0;36m__get__\u001b[0;34m(self, obj, cls)\u001b[0m\n\u001b[1;32m    185\u001b[0m             \u001b[0;31m# we're accessing the attribute of the class, i.e., Dataset.geo\u001b[0m\u001b[0;34m\u001b[0m\u001b[0;34m\u001b[0m\u001b[0;34m\u001b[0m\u001b[0m\n\u001b[1;32m    186\u001b[0m             \u001b[0;32mreturn\u001b[0m \u001b[0mself\u001b[0m\u001b[0;34m.\u001b[0m\u001b[0m_accessor\u001b[0m\u001b[0;34m\u001b[0m\u001b[0;34m\u001b[0m\u001b[0m\n\u001b[0;32m--> 187\u001b[0;31m         \u001b[0maccessor_obj\u001b[0m \u001b[0;34m=\u001b[0m \u001b[0mself\u001b[0m\u001b[0;34m.\u001b[0m\u001b[0m_accessor\u001b[0m\u001b[0;34m(\u001b[0m\u001b[0mobj\u001b[0m\u001b[0;34m)\u001b[0m\u001b[0;34m\u001b[0m\u001b[0;34m\u001b[0m\u001b[0m\n\u001b[0m\u001b[1;32m    188\u001b[0m         \u001b[0;31m# Replace the property with the accessor object. Inspired by:\u001b[0m\u001b[0;34m\u001b[0m\u001b[0;34m\u001b[0m\u001b[0;34m\u001b[0m\u001b[0m\n\u001b[1;32m    189\u001b[0m         \u001b[0;31m# http://www.pydanny.com/cached-property.html\u001b[0m\u001b[0;34m\u001b[0m\u001b[0;34m\u001b[0m\u001b[0;34m\u001b[0m\u001b[0m\n",
      "\u001b[0;32m~/opt/anaconda3/envs/pythondata/lib/python3.6/site-packages/pandas/core/strings.py\u001b[0m in \u001b[0;36m__init__\u001b[0;34m(self, data)\u001b[0m\n\u001b[1;32m   2039\u001b[0m \u001b[0;34m\u001b[0m\u001b[0m\n\u001b[1;32m   2040\u001b[0m     \u001b[0;32mdef\u001b[0m \u001b[0m__init__\u001b[0m\u001b[0;34m(\u001b[0m\u001b[0mself\u001b[0m\u001b[0;34m,\u001b[0m \u001b[0mdata\u001b[0m\u001b[0;34m)\u001b[0m\u001b[0;34m:\u001b[0m\u001b[0;34m\u001b[0m\u001b[0;34m\u001b[0m\u001b[0m\n\u001b[0;32m-> 2041\u001b[0;31m         \u001b[0mself\u001b[0m\u001b[0;34m.\u001b[0m\u001b[0m_inferred_dtype\u001b[0m \u001b[0;34m=\u001b[0m \u001b[0mself\u001b[0m\u001b[0;34m.\u001b[0m\u001b[0m_validate\u001b[0m\u001b[0;34m(\u001b[0m\u001b[0mdata\u001b[0m\u001b[0;34m)\u001b[0m\u001b[0;34m\u001b[0m\u001b[0;34m\u001b[0m\u001b[0m\n\u001b[0m\u001b[1;32m   2042\u001b[0m         \u001b[0mself\u001b[0m\u001b[0;34m.\u001b[0m\u001b[0m_is_categorical\u001b[0m \u001b[0;34m=\u001b[0m \u001b[0mis_categorical_dtype\u001b[0m\u001b[0;34m(\u001b[0m\u001b[0mdata\u001b[0m\u001b[0;34m)\u001b[0m\u001b[0;34m\u001b[0m\u001b[0;34m\u001b[0m\u001b[0m\n\u001b[1;32m   2043\u001b[0m         \u001b[0mself\u001b[0m\u001b[0;34m.\u001b[0m\u001b[0m_is_string\u001b[0m \u001b[0;34m=\u001b[0m \u001b[0mdata\u001b[0m\u001b[0;34m.\u001b[0m\u001b[0mdtype\u001b[0m\u001b[0;34m.\u001b[0m\u001b[0mname\u001b[0m \u001b[0;34m==\u001b[0m \u001b[0;34m\"string\"\u001b[0m\u001b[0;34m\u001b[0m\u001b[0;34m\u001b[0m\u001b[0m\n",
      "\u001b[0;32m~/opt/anaconda3/envs/pythondata/lib/python3.6/site-packages/pandas/core/strings.py\u001b[0m in \u001b[0;36m_validate\u001b[0;34m(data)\u001b[0m\n\u001b[1;32m   2096\u001b[0m \u001b[0;34m\u001b[0m\u001b[0m\n\u001b[1;32m   2097\u001b[0m         \u001b[0;32mif\u001b[0m \u001b[0minferred_dtype\u001b[0m \u001b[0;32mnot\u001b[0m \u001b[0;32min\u001b[0m \u001b[0mallowed_types\u001b[0m\u001b[0;34m:\u001b[0m\u001b[0;34m\u001b[0m\u001b[0;34m\u001b[0m\u001b[0m\n\u001b[0;32m-> 2098\u001b[0;31m             \u001b[0;32mraise\u001b[0m \u001b[0mAttributeError\u001b[0m\u001b[0;34m(\u001b[0m\u001b[0;34m\"Can only use .str accessor with string values!\"\u001b[0m\u001b[0;34m)\u001b[0m\u001b[0;34m\u001b[0m\u001b[0;34m\u001b[0m\u001b[0m\n\u001b[0m\u001b[1;32m   2099\u001b[0m         \u001b[0;32mreturn\u001b[0m \u001b[0minferred_dtype\u001b[0m\u001b[0;34m\u001b[0m\u001b[0;34m\u001b[0m\u001b[0m\n\u001b[1;32m   2100\u001b[0m \u001b[0;34m\u001b[0m\u001b[0m\n",
      "\u001b[0;31mAttributeError\u001b[0m: Can only use .str accessor with string values!"
     ]
    }
   ],
   "source": [
    "# Year (just the first 4 char)):\n",
    "netflix_df[\"release_year\"] = netflix_df[\"release_year\"].str[:4]\n",
    "netflix_df[\"release_year\"] "
   ]
  },
  {
   "cell_type": "code",
   "execution_count": 38,
   "metadata": {},
   "outputs": [
    {
     "data": {
      "text/plain": [
       "array(['United States', \"['GB']\", 'Japan, United States, France',\n",
       "       \"['US']\", 'South Korea', 'Poland', \"['JP']\", 'India',\n",
       "       'United States, Canada, Vietnam', 'United States, Mexico',\n",
       "       \"['DE']\", 'Germany', 'United States, United Kingdom', \"['KR']\",\n",
       "       'United States, Germany', \"['NL']\", 'Denmark',\n",
       "       'Canada, United States', 'Sweden', 'Colombia, United States',\n",
       "       'Italy', \"['BE', 'US']\", 'Mexico, Colombia', \"['AU']\", \"['CA']\",\n",
       "       'France', 'Poland, United States', 'United States, Argentina',\n",
       "       'United States, South Korea', 'United States, Canada', 'Mexico',\n",
       "       'Japan', \"['GB', 'US']\", 'Thailand, United States',\n",
       "       'United Kingdom', 'United States, China, United Kingdom, Japan',\n",
       "       'Spain', 'United States, France, Japan',\n",
       "       'Australia, United States', 'Brazil',\n",
       "       'United Kingdom, United States', 'Norway',\n",
       "       'United States, United Kingdom, Germany', 'Turkey', 'Iceland',\n",
       "       \"['US', 'CZ']\", 'Hong Kong, China', 'Italy, Spain', 'South Africa',\n",
       "       'United States, China, Hong Kong, Australia, Canada',\n",
       "       'Finland, United States', 'Spain, United States', 'Argentina',\n",
       "       \"['ES']\", \"['BR']\", 'United Kingdom, United States, India, Spain',\n",
       "       'United States, United Arab Emirates',\n",
       "       'United Kingdom, Canada, United States', 'United States, Japan',\n",
       "       'Canada', \"['MX']\", \"['US', 'GB']\", \"['IT']\", \"['LU']\",\n",
       "       \"['CA', 'US']\", 'Colombia', \"['IN']\", \"['PL']\",\n",
       "       'United States, Japan, Canada', \"['TR']\", \"['US', 'CN']\",\n",
       "       \"['DE', 'AU']\", \"['FR', 'DE']\", \"['BE']\",\n",
       "       'France, Japan, United States', \"['BG', 'US']\", \"['CO']\",\n",
       "       \"['ES', 'KN']\", '[]', 'China, United States', \"['SE']\", \"['CL']\",\n",
       "       \"['ZA']\", \"['US', 'NG']\", \"['AR']\", \"['FR']\",\n",
       "       \"['CA', 'HU', 'MX', 'ES', 'GB', 'US']\",\n",
       "       'United States, South Africa',\n",
       "       'United States, Italy, Hong Kong, Canada', \"['BE', 'FR']\",\n",
       "       'Iceland, Denmark', 'United States, China, Japan',\n",
       "       'United States, France', 'Spain, France',\n",
       "       'Netherlands, France, West Germany', 'United States, Australia',\n",
       "       \"['GB', 'AU', 'CA', 'GR', 'NZ']\", \"['BR', 'US']\", \"['FR', 'US']\",\n",
       "       \"['AU', 'US']\", \"['GR', 'GB', 'US']\", \"['GB', 'US', 'DE']\",\n",
       "       \"['AT', 'DE']\", \"['TH']\", \"['DK']\", 'United States, China',\n",
       "       \"['BR', 'DE', 'QA', 'MX', 'US', 'CH', 'AR']\", \"['DE', 'US']\",\n",
       "       'United States, Bulgaria', \"['US', 'CA', 'GB']\",\n",
       "       'United States, China, Canada',\n",
       "       'Germany, United Kingdom, Canada, Sweden, United States', \"['NG']\",\n",
       "       'United Kingdom, United States, Australia',\n",
       "       'China, India, Hong Kong, United States', \"['IE', 'US', 'CA']\",\n",
       "       'France, Germany, United States', \"['CL', 'PE']\", \"['ES', 'US']\",\n",
       "       \"['RO', 'US']\", \"['US', 'JP', 'TH']\",\n",
       "       'Switzerland, United Kingdom, United States, Mexico',\n",
       "       \"['SE', 'RO']\", 'Germany, Czech Republic', \"['US', 'AU']\",\n",
       "       'South Africa, United States, Japan',\n",
       "       'Hong Kong, China, United States', \"['SG', 'US']\",\n",
       "       \"['CA', 'GB', 'US']\", \"['ZA', 'GB', 'US']\", \"['IL']\", \"['JO']\",\n",
       "       \"['IT', 'BR']\", 'Russia', 'Germany, United States',\n",
       "       \"['FR', 'DE', 'US']\", 'China, United States, Canada, Japan',\n",
       "       \"['NZ', 'HK']\", \"['FR', 'LT', 'GB']\", \"['IS']\"], dtype=object)"
      ]
     },
     "execution_count": 38,
     "metadata": {},
     "output_type": "execute_result"
    }
   ],
   "source": [
    "# production_country:\n",
    "# netflix_df[\"production_countries\"].unique()\n",
    "# standard_names = coco.convert(names=netflix_df[\"production_countries\"], to='name_short')\n",
    "# standard_names"
   ]
  },
  {
   "cell_type": "code",
   "execution_count": 23,
   "metadata": {},
   "outputs": [],
   "source": [
    "# Export csv:\n",
    "# netflix_df.to_csv(\"cleaned_netflix_data.csv\")"
   ]
  }
 ],
 "metadata": {
  "kernelspec": {
   "display_name": "Python 3.6.13 64-bit ('pythondata')",
   "language": "python",
   "name": "python3"
  },
  "language_info": {
   "codemirror_mode": {
    "name": "ipython",
    "version": 3
   },
   "file_extension": ".py",
   "mimetype": "text/x-python",
   "name": "python",
   "nbconvert_exporter": "python",
   "pygments_lexer": "ipython3",
   "version": "3.6.13"
  },
  "orig_nbformat": 4,
  "vscode": {
   "interpreter": {
    "hash": "3f11b75ff9f9291a5c6edd26c3e978cfbefcb80639b1753c05a91d0de579e61d"
   }
  }
 },
 "nbformat": 4,
 "nbformat_minor": 2
}
